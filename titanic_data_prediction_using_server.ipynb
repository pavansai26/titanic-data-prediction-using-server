{
  "nbformat": 4,
  "nbformat_minor": 0,
  "metadata": {
    "colab": {
      "name": "titanic data prediction using server.ipynb",
      "provenance": [],
      "private_outputs": true,
      "authorship_tag": "ABX9TyPKkDXgqz+0+lJvxLul+vnS",
      "include_colab_link": true
    },
    "kernelspec": {
      "name": "python3",
      "display_name": "Python 3"
    }
  },
  "cells": [
    {
      "cell_type": "markdown",
      "metadata": {
        "id": "view-in-github",
        "colab_type": "text"
      },
      "source": [
        "<a href=\"https://colab.research.google.com/github/pavansai26/titanic-data-prediction-using-server/blob/master/titanic_data_prediction_using_server.ipynb\" target=\"_parent\"><img src=\"https://colab.research.google.com/assets/colab-badge.svg\" alt=\"Open In Colab\"/></a>"
      ]
    },
    {
      "cell_type": "code",
      "metadata": {
        "id": "g-XzIWH3vPyI",
        "colab_type": "code",
        "colab": {}
      },
      "source": [
        ""
      ],
      "execution_count": 0,
      "outputs": []
    },
    {
      "cell_type": "markdown",
      "metadata": {
        "id": "PCdnO42Lvcva",
        "colab_type": "text"
      },
      "source": [
        "# New Section"
      ]
    },
    {
      "cell_type": "code",
      "metadata": {
        "id": "69Ys3vP-vtX8",
        "colab_type": "code",
        "colab": {}
      },
      "source": [
        "import pandas as pd\n",
        "import numpy as np\n",
        "import sklearn\n",
        "import warnings\n",
        "warnings.filterwarnings('ignore')"
      ],
      "execution_count": 0,
      "outputs": []
    },
    {
      "cell_type": "code",
      "metadata": {
        "id": "aXJZXFx-v57J",
        "colab_type": "code",
        "colab": {}
      },
      "source": [
        "titanic_data = pd.read_csv('titanic.csv')\n",
        "titanic_data.head()"
      ],
      "execution_count": 0,
      "outputs": []
    },
    {
      "cell_type": "code",
      "metadata": {
        "id": "q_QVBPBgwW32",
        "colab_type": "code",
        "colab": {}
      },
      "source": [
        "titanic_data.columns"
      ],
      "execution_count": 0,
      "outputs": []
    },
    {
      "cell_type": "code",
      "metadata": {
        "id": "VKBKUPZMw4BM",
        "colab_type": "code",
        "colab": {}
      },
      "source": [
        "titanic_data.isnull().sum()"
      ],
      "execution_count": 0,
      "outputs": []
    },
    {
      "cell_type": "code",
      "metadata": {
        "id": "mllJasoZxDJ_",
        "colab_type": "code",
        "colab": {}
      },
      "source": [
        "titanic_data.info()"
      ],
      "execution_count": 0,
      "outputs": []
    },
    {
      "cell_type": "code",
      "metadata": {
        "id": "acjxccbFxRK6",
        "colab_type": "code",
        "colab": {}
      },
      "source": [
        "titanic_data.drop('Cabin',axis=1,inplace=True)"
      ],
      "execution_count": 0,
      "outputs": []
    },
    {
      "cell_type": "code",
      "metadata": {
        "id": "ynLKnmUQxg6k",
        "colab_type": "code",
        "colab": {}
      },
      "source": [
        "titanic_data.isnull().sum()"
      ],
      "execution_count": 0,
      "outputs": []
    },
    {
      "cell_type": "code",
      "metadata": {
        "id": "XTVWGlF6xqLY",
        "colab_type": "code",
        "colab": {}
      },
      "source": [
        "titanic_data['Age'].fillna((titanic_data['Age'].mean()),inplace=True)"
      ],
      "execution_count": 0,
      "outputs": []
    },
    {
      "cell_type": "code",
      "metadata": {
        "id": "Rgr-tfDuyRd4",
        "colab_type": "code",
        "colab": {}
      },
      "source": [
        "titanic_data.isnull().sum()"
      ],
      "execution_count": 0,
      "outputs": []
    },
    {
      "cell_type": "code",
      "metadata": {
        "id": "YRpo38D-yUFg",
        "colab_type": "code",
        "colab": {}
      },
      "source": [
        "titanic_data.dropna(inplace=True)"
      ],
      "execution_count": 0,
      "outputs": []
    },
    {
      "cell_type": "code",
      "metadata": {
        "id": "KcJiT1SqygPV",
        "colab_type": "code",
        "colab": {}
      },
      "source": [
        "titanic_data.isnull().sum()"
      ],
      "execution_count": 0,
      "outputs": []
    },
    {
      "cell_type": "code",
      "metadata": {
        "id": "cqmelWvByk_n",
        "colab_type": "code",
        "colab": {}
      },
      "source": [
        "#To create dummies (categories)\n",
        "sex = pd.get_dummies(titanic_data[\"Sex\"],drop_first=True)\n",
        "sex.head(2)"
      ],
      "execution_count": 0,
      "outputs": []
    },
    {
      "cell_type": "code",
      "metadata": {
        "id": "5HNJ3meWzaLd",
        "colab_type": "code",
        "colab": {}
      },
      "source": [
        "Pcl = pd.get_dummies(titanic_data[\"Pclass\"],drop_first=True)\n",
        "Pcl.head(2)"
      ],
      "execution_count": 0,
      "outputs": []
    },
    {
      "cell_type": "code",
      "metadata": {
        "id": "zXWubrIxzeaj",
        "colab_type": "code",
        "colab": {}
      },
      "source": [
        "embark = pd.get_dummies(titanic_data[\"Embarked\"],drop_first=True)\n",
        "embark.head(2)"
      ],
      "execution_count": 0,
      "outputs": []
    },
    {
      "cell_type": "code",
      "metadata": {
        "id": "HVBGwl3BziJ_",
        "colab_type": "code",
        "colab": {}
      },
      "source": [
        "titanic_data = pd.concat([titanic_data,sex,Pcl,embark],axis = 1)\n",
        "titanic_data.head(2)"
      ],
      "execution_count": 0,
      "outputs": []
    },
    {
      "cell_type": "code",
      "metadata": {
        "id": "lE20on9hzoZU",
        "colab_type": "code",
        "colab": {}
      },
      "source": [
        "titanic_data.drop(['Sex','Embarked','Pclass','Name','Ticket','PassengerId'],axis=1,\n",
        "                  inplace=True)\n",
        "titanic_data.head()"
      ],
      "execution_count": 0,
      "outputs": []
    },
    {
      "cell_type": "code",
      "metadata": {
        "id": "fokcNh-5z6La",
        "colab_type": "code",
        "colab": {}
      },
      "source": [
        "#Training and Testing data\n",
        "X = titanic_data.drop(\"Survived\",axis=1)\n",
        "y = titanic_data[\"Survived\"]\n",
        "from sklearn.model_selection import train_test_split"
      ],
      "execution_count": 0,
      "outputs": []
    },
    {
      "cell_type": "code",
      "metadata": {
        "id": "QTsRacP80Teb",
        "colab_type": "code",
        "colab": {}
      },
      "source": [
        "#Splitting into training set and testing set\n",
        "X_train,X_test,y_train,y_test = train_test_split(X,y,test_size=0.3,random_state=1)\n",
        "from sklearn.linear_model import LogisticRegression\n",
        "logmodel = LogisticRegression()\n",
        "logmodel.fit(X_train,y_train)"
      ],
      "execution_count": 0,
      "outputs": []
    },
    {
      "cell_type": "code",
      "metadata": {
        "id": "jp5MV_9v0YWu",
        "colab_type": "code",
        "colab": {}
      },
      "source": [
        "predictions = logmodel.predict(X_test)"
      ],
      "execution_count": 0,
      "outputs": []
    },
    {
      "cell_type": "code",
      "metadata": {
        "id": "1tEOUPSa0e1B",
        "colab_type": "code",
        "colab": {}
      },
      "source": [
        "#Metrics\n",
        "from sklearn.metrics import accuracy_score\n",
        "print(accuracy_score(y_test,predictions)*100)"
      ],
      "execution_count": 0,
      "outputs": []
    },
    {
      "cell_type": "code",
      "metadata": {
        "id": "NT8EHnyy0jIG",
        "colab_type": "code",
        "colab": {}
      },
      "source": [
        "predictions = logmodel.predict([[22.0,1,0,7.2500,1,0,1,0,1]])\n",
        "predictions"
      ],
      "execution_count": 0,
      "outputs": []
    },
    {
      "cell_type": "code",
      "metadata": {
        "id": "_-UxzqNV05Il",
        "colab_type": "code",
        "colab": {}
      },
      "source": [
        "!pip install flask-ngrok"
      ],
      "execution_count": 0,
      "outputs": []
    },
    {
      "cell_type": "code",
      "metadata": {
        "id": "dgji5Vb81QPn",
        "colab_type": "code",
        "colab": {}
      },
      "source": [
        "from flask_ngrok import run_with_ngrok\n",
        "from flask import Flask,jsonify\n",
        "app =Flask(__name__)\n",
        "run_with_ngrok(app) #starts ngrok when the app is running\n",
        "@app.route(\"/<int:Age>/<int:SibSp>/<int:Parch>/<float:Fare>/<Gender>/<int:PClass>/<Place>\")\n",
        "def home(Age,SibSp,Parch,Fare,Gender,PClass,Place):\n",
        "  p = []\n",
        "  p += [Age,SibSp,Parch,Fare]\n",
        "  if Gender.casefold() == \"m\":\n",
        "    p+=[1]\n",
        "  else:\n",
        "    p+=[0]\n",
        "  if PClass == 2:\n",
        "    p+=[1,0]\n",
        "  elif PClass == 3:\n",
        "    p+=[0,1]\n",
        "  else:\n",
        "    p+=[0,0]\n",
        "  if Place.casefold() == \"queenstown\":\n",
        "    p+=[1,0]\n",
        "  elif Place.casefold() == \"southampton\":\n",
        "    p+=[0,1]\n",
        "  else:\n",
        "    p+=[0,0]\n",
        "  arr = np.array([p])\n",
        "  predict =logmodel.predict(arr)\n",
        "  if predict == [1]:\n",
        "    result = {'result':'Survived'}\n",
        "  else:\n",
        "    result = {'result':'NotSurvived'}\n",
        "  \n",
        "  return jsonify(result)\n",
        "app.run()"
      ],
      "execution_count": 0,
      "outputs": []
    },
    {
      "cell_type": "code",
      "metadata": {
        "id": "K-mP1Ub14XH5",
        "colab_type": "code",
        "colab": {}
      },
      "source": [
        ""
      ],
      "execution_count": 0,
      "outputs": []
    }
  ]
}